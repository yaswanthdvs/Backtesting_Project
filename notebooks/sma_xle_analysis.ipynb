{
 "cells": [
  {
   "cell_type": "code",
   "execution_count": 3,
   "id": "158be168",
   "metadata": {},
   "outputs": [],
   "source": [
    "import sys\n",
    "import os\n",
    "import pandas as pd\n",
    "import datetime\n",
    "\n",
    "sys.path.append(os.path.abspath(os.path.join('..')))\n",
    "\n",
    "from src.data_loader import fetch_data_tiingo\n",
    "\n",
    "# Config block\n",
    "START_DATE = \"2009-01-01\"\n",
    "END_DATE = datetime.datetime.today().strftime('%Y-%m-%d')\n",
    "API_KEY = \"08ec876fa0ec9c87cafff1fd07c6ffd95036203a\"\n",
    "ticker = \"XLE\"\n",
    "data_path = f\"../data/{ticker.lower()}_{START_DATE}_{END_DATE}.csv\"\n",
    "\n",
    "if os.path.exists(data_path):\n",
    "    df = pd.read_csv(data_path, index_col=0, parse_dates=True)\n",
    "else:\n",
    "    df = fetch_data_tiingo(ticker, api_key=API_KEY, start_date=START_DATE, end_date=END_DATE)\n",
    "    \n",
    "    #Save for local use\n",
    "    os.makedirs(\"../data\", exist_ok=True)\n",
    "    df.to_csv(data_path)"
   ]
  },
  {
   "cell_type": "code",
   "execution_count": 1,
   "id": "5eddb56c",
   "metadata": {},
   "outputs": [
    {
     "name": "stdout",
     "output_type": "stream",
     "text": [
      "Sharpe Ratio: -0.31\n",
      "Max Drawdown: -89.45%\n"
     ]
    }
   ],
   "source": [
    "import sys\n",
    "import os\n",
    "import pandas as pd\n",
    "\n",
    "# Allow importing from ../src\n",
    "sys.path.append(os.path.abspath(os.path.join(\"..\")))\n",
    "\n",
    "from src.strategy import sma_crossover_strategy\n",
    "from src.backtester import backtest\n",
    "from src.metrics import sharpe_ratio, max_drawdown\n",
    "from src.utils import plot_equity_curve\n",
    "\n",
    "# Load the saved data\n",
    "df = pd.read_csv(\"../data/xle_2009-01-01_2025-07-28.csv\", index_col=0, parse_dates=True)\n",
    "\n",
    "df_raw = df.copy()\n",
    "\n",
    "# Apply strategy and run backtest\n",
    "df = sma_crossover_strategy(df, short_window=20, long_window=50)\n",
    "results = backtest(df)\n",
    "\n",
    "# Compute metrics\n",
    "sr = sharpe_ratio(results['Strategy_Returns'].dropna())\n",
    "dd = max_drawdown(results['Equity_Curve'].dropna())\n",
    "\n",
    "\n",
    "print(f\"Sharpe Ratio: {sr:.2f}\")\n",
    "print(f\"Max Drawdown: {dd:.2%}\")\n",
    "\n",
    "# Plot equity curve\n",
    "plot_equity_curve(results)"
   ]
  },
  {
   "cell_type": "markdown",
   "id": "d096e782",
   "metadata": {},
   "source": [
    "We applied a simple 20/50-day Simple Moving Average (SMA) crossover strategy to XLE, the Energy Select Sector SPDR ETF, covering the period from 2009 to July 2025. This strategy generates long-only signals when the short-term SMA (20-day) crosses above the long-term SMA (50-day).\n",
    "\n",
    "Key performance metrics:\n",
    "Sharpe Ratio: –0.31\n",
    "Indicates that the strategy delivered negative risk-adjusted returns. It underperformed even a zero-return (risk-free) benchmark, on a volatility-adjusted basis.\n",
    "\n",
    "Max Drawdown: –89.45%\n",
    "The strategy suffered a near-complete loss of capital at its worst point, highlighting poor downside protection and high vulnerability to market noise.\n",
    "\n",
    "Equity curve analysis:\n",
    "The equity curve shows a steady and persistent drawdown from 2009 onward, with only short-lived recoveries. There are multiple failed breakouts and whipsaw periods where the SMA crossover generated false signals, resulting in frequent losses and erosion of capital.\n",
    "\n",
    "Notably, there is no sustained upward trend in cumulative returns. Sharp drops (e.g., during 2015 oil crash, 2020 COVID, 2022 energy volatility) caused deep drawdowns. The curve shows volatility without reward a hallmark of a strategy out of sync with market structure.\n",
    "\n",
    "Takeaways:\n",
    "An obvious point, not all strategies generalise across all asset classes. SMA crossovers work better on trending assets (e.g., SPY, NASDAQ, BTC) than on cyclicals or commodities.\n",
    "Backtesting is Discovery: Negative results are not failures. They help us reject poor hypotheses and avoid overfitting.\n",
    "Comparing across assets, adding filters (e.g., volatility regimes), or hybrid signals may improve strategy viability."
   ]
  },
  {
   "cell_type": "markdown",
   "id": "b04d8d1d",
   "metadata": {},
   "source": [
    "Let us put to test the third takeaway. \n",
    "\n",
    "Adding a volatility filter: Don't trade below unless volatility is below a certain threshold (to avoid whipsaws).\n",
    "\n",
    "Idea: Use Average True Range (ATR) or rolling standard deviation as a proxy for volatility. Only enter trades when volatility is below a defined percentile (eg: 50th percentile). \n",
    "\n",
    "Intuition:\n",
    "High volatility = unstable signals → avoid\n",
    "Low volatility = more stable regime → allow SMA crossover to execute"
   ]
  }
 ],
 "metadata": {
  "kernelspec": {
   "display_name": "Python 3",
   "language": "python",
   "name": "python3"
  },
  "language_info": {
   "codemirror_mode": {
    "name": "ipython",
    "version": 3
   },
   "file_extension": ".py",
   "mimetype": "text/x-python",
   "name": "python",
   "nbconvert_exporter": "python",
   "pygments_lexer": "ipython3",
   "version": "3.12.10"
  }
 },
 "nbformat": 4,
 "nbformat_minor": 5
}
